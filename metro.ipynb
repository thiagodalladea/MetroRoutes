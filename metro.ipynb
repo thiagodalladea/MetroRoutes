{
 "cells": [
  {
   "cell_type": "code",
   "execution_count": 242,
   "metadata": {},
   "outputs": [],
   "source": [
    "import pandas as pd\n",
    "import plotly.express as px\n",
    "import pandas as pd\n",
    "from math import radians, sin, cos, sqrt, atan2"
   ]
  },
  {
   "cell_type": "code",
   "execution_count": 243,
   "metadata": {},
   "outputs": [],
   "source": [
    "def haversine_distance(lat1, lon1, lat2, lon2):\n",
    "    R = 6371.0 * 1000\n",
    "\n",
    "    lat1 = radians(lat1)\n",
    "    lon1 = radians(lon1)\n",
    "    lat2 = radians(lat2)\n",
    "    lon2 = radians(lon2)\n",
    "\n",
    "    dlon = lon2 - lon1\n",
    "    dlat = lat2 - lat1\n",
    "\n",
    "    a = sin(dlat / 2) ** 2 + cos(lat1) * cos(lat2) * sin(dlon / 2) ** 2\n",
    "    c = 2 * atan2(sqrt(a), sqrt(1 - a))\n",
    "\n",
    "    distance = R * c\n",
    "    return round(distance, 2)\n",
    "\n",
    "\n",
    "def get_station_info(station_name, df):\n",
    "    station_rows = df[df[\"Station\"] == station_name]\n",
    "    if not station_rows.empty:\n",
    "        station_info = {\n",
    "            \"Latitude\": station_rows.iloc[0][\"Latitude\"],\n",
    "            \"Longitude\": station_rows.iloc[0][\"Longitude\"],\n",
    "            \"Lines\": set(station_rows[\"Line\"]),\n",
    "        }\n",
    "        return station_info\n",
    "    else:\n",
    "        return None\n",
    "\n",
    "\n",
    "def calculate_distance(row, df):\n",
    "    origin_info = get_station_info(row[\"Station\"], df)\n",
    "    dest_info = get_station_info(row[\"Destination\"], df)\n",
    "\n",
    "    if origin_info and dest_info:\n",
    "        if origin_info[\"Lines\"].intersection(dest_info[\"Lines\"]):\n",
    "            return haversine_distance(\n",
    "                origin_info[\"Latitude\"],\n",
    "                origin_info[\"Longitude\"],\n",
    "                dest_info[\"Latitude\"],\n",
    "                dest_info[\"Longitude\"],\n",
    "            )\n",
    "    return None"
   ]
  },
  {
   "cell_type": "code",
   "execution_count": 244,
   "metadata": {},
   "outputs": [],
   "source": [
    "df = pd.read_csv(\"Metro_Madrid_2021.csv\")\n",
    "df = df.drop(\"Traffic\", axis=1)\n",
    "df[\"Longitude\"] = df[\"Longitude\"].str.replace(\",\", \".\").astype(float)\n",
    "df[\"Latitude\"] = df[\"Latitude\"].str.replace(\",\", \".\").astype(float)\n",
    "df.insert(1, \"Destination\", df[\"Station\"].shift(-1))\n",
    "df.insert(2, \"Distance\", df.apply(lambda row: calculate_distance(row, df), axis=1))\n",
    "df = df.dropna(subset=[\"Distance\"])\n",
    "df.drop(df.loc[df[\"Distance\"] > 5000].index, inplace=True)"
   ]
  },
  {
   "cell_type": "code",
   "execution_count": 245,
   "metadata": {},
   "outputs": [
    {
     "data": {
      "text/html": [
       "<div>\n",
       "<style scoped>\n",
       "    .dataframe tbody tr th:only-of-type {\n",
       "        vertical-align: middle;\n",
       "    }\n",
       "\n",
       "    .dataframe tbody tr th {\n",
       "        vertical-align: top;\n",
       "    }\n",
       "\n",
       "    .dataframe thead th {\n",
       "        text-align: right;\n",
       "    }\n",
       "</style>\n",
       "<table border=\"1\" class=\"dataframe\">\n",
       "  <thead>\n",
       "    <tr style=\"text-align: right;\">\n",
       "      <th></th>\n",
       "      <th>Station</th>\n",
       "      <th>Destination</th>\n",
       "      <th>Distance</th>\n",
       "      <th>Line</th>\n",
       "      <th>Order of Points</th>\n",
       "      <th>Longitude</th>\n",
       "      <th>Latitude</th>\n",
       "    </tr>\n",
       "  </thead>\n",
       "  <tbody>\n",
       "    <tr>\n",
       "      <th>0</th>\n",
       "      <td>Pinar de Chamartin</td>\n",
       "      <td>Bambú</td>\n",
       "      <td>867.28</td>\n",
       "      <td>Linea 1</td>\n",
       "      <td>1</td>\n",
       "      <td>-3.667061</td>\n",
       "      <td>40.480136</td>\n",
       "    </tr>\n",
       "    <tr>\n",
       "      <th>1</th>\n",
       "      <td>Bambú</td>\n",
       "      <td>Chamartín</td>\n",
       "      <td>754.71</td>\n",
       "      <td>Linea 1</td>\n",
       "      <td>2</td>\n",
       "      <td>-3.676374</td>\n",
       "      <td>40.476872</td>\n",
       "    </tr>\n",
       "    <tr>\n",
       "      <th>2</th>\n",
       "      <td>Chamartín</td>\n",
       "      <td>Plaza de Castilla</td>\n",
       "      <td>799.03</td>\n",
       "      <td>Linea 1</td>\n",
       "      <td>3</td>\n",
       "      <td>-3.682768</td>\n",
       "      <td>40.472138</td>\n",
       "    </tr>\n",
       "  </tbody>\n",
       "</table>\n",
       "</div>"
      ],
      "text/plain": [
       "              Station        Destination  Distance     Line  Order of Points  \\\n",
       "0  Pinar de Chamartin              Bambú    867.28  Linea 1                1   \n",
       "1               Bambú          Chamartín    754.71  Linea 1                2   \n",
       "2           Chamartín  Plaza de Castilla    799.03  Linea 1                3   \n",
       "\n",
       "   Longitude   Latitude  \n",
       "0  -3.667061  40.480136  \n",
       "1  -3.676374  40.476872  \n",
       "2  -3.682768  40.472138  "
      ]
     },
     "execution_count": 245,
     "metadata": {},
     "output_type": "execute_result"
    }
   ],
   "source": [
    "df.head(3)"
   ]
  },
  {
   "cell_type": "code",
   "execution_count": 246,
   "metadata": {},
   "outputs": [],
   "source": [
    "graph_df = df[[\"Station\", \"Destination\", \"Distance\", \"Line\"]]\n",
    "graph = {}\n",
    "\n",
    "for row in df.itertuples():\n",
    "    station = row.Station\n",
    "    destination = row.Destination\n",
    "    distance = row.Distance\n",
    "    line = row.Line\n",
    "\n",
    "    if pd.isna(distance):\n",
    "        continue\n",
    "\n",
    "    if station not in graph:\n",
    "        graph[station] = []\n",
    "\n",
    "    graph[station].append((destination, distance, line))"
   ]
  },
  {
   "cell_type": "code",
   "execution_count": 272,
   "metadata": {},
   "outputs": [
    {
     "data": {
      "application/vnd.plotly.v1+json": {
       "config": {
        "plotlyServerURL": "https://plot.ly"
       },
       "data": [
        {
         "hovertemplate": "<b>%{hovertext}</b><br><br>Latitude=%{lat}<br>Longitude=%{lon}<extra></extra>",
         "hovertext": [
          "Pinar de Chamartin",
          "Bambú",
          "Chamartín",
          "Plaza de Castilla",
          "Valdeacederas",
          "Tetuán",
          "Estrecho",
          "Alvarado",
          "Cuatro Caminos",
          "Ríos Rosas",
          "Iglesia",
          "Bilbao",
          "Tribunal",
          "Gran Vía",
          "Sol",
          "Tirso de Molina",
          "Antón Martín",
          "Estación del Arte",
          "Atocha",
          "Menéndez Pelayo",
          "Pacífico",
          "Puente de Vallecas",
          "Nueva Numancia",
          "Portazgo",
          "Buenos Aires",
          "Alto del Arenal",
          "Miguel Hernández",
          "Sierra de Guadalupe\t",
          "Villa de Vallecas",
          "Congosto",
          "La Gavia",
          "Las Suertes",
          "Las Rosas",
          "Avenida de Guadalajara",
          "Alsacia",
          "La Almudena",
          "La Elipa",
          "Ventas",
          "Manuel Becerra",
          "Goya",
          "Príncipe de Vergara",
          "Retiro",
          "Banco de España",
          "Sevilla",
          "Sol",
          "Ópera",
          "Santo Domingo",
          "Noviciado",
          "San Bernardo",
          "Quevedo",
          "Canal",
          "Cuatro Caminos",
          "Moncloa",
          "Argüelles",
          "Ventura Rodríguez",
          "Plaza de España",
          "Callao",
          "Sol",
          "Lavapiés",
          "Embajadores",
          "Palos de la Frontera",
          "Delicias",
          "Legazpi",
          "Almendrales",
          "Hospital 12 de Octubre",
          "San Fermín-Orcasur",
          "Ciudad de los Ángeles",
          "Villaverde Bajo-Cruce",
          "San Cristóbal",
          "Argüelles",
          "San Bernardo",
          "Bilbao",
          "Alonso Martínez",
          "Colón",
          "Serrano",
          "Velázquez",
          "Goya",
          "Lista",
          "Diego de León",
          "Avenida de América",
          "Prosperidad",
          "Alfonso XIII",
          "Avenida de la Paz",
          "Arturo Soria",
          "Esperanza",
          "Canillas",
          "Mar de Cristal",
          "San Lorenzo",
          "Parque de Santa María",
          "Hortaleza",
          "Manoteras",
          "Casa de Campo",
          "Campamento",
          "Empalme",
          "Aluche",
          "Eugenia de Montijo",
          "Carabanchel",
          "Vista Alegre",
          "Oporto",
          "Urgel",
          "Marqués de Vadillo",
          "Pirámides",
          "Acacias",
          "Puerta de Toledo",
          "La Latina",
          "Ópera",
          "Callao",
          "Gran Vía",
          "Chueca",
          "Alonso Martínez",
          "Rubén Darío",
          "Núñez de Balboa",
          "Diego de León",
          "Ventas",
          "El Carmen",
          "Quintana",
          "Pueblo Nuevo",
          "Ciudad Lineal",
          "Suanzes",
          "Torre Arias",
          "Canillejas",
          "El capricho",
          "Laguna",
          "Lucero",
          "Alto de Extremadura",
          "Puerta del Ángel",
          "Príncipe Pío",
          "Argüelles",
          "Moncloa",
          "Ciudad Universitaria",
          "Vicente Aleixandre",
          "Guzmán el Bueno",
          "Cuatro Caminos",
          "Nuevos Ministerios",
          "República Argentina",
          "Avenida de América\t",
          "Diego de León",
          "Manuel Becerra",
          "O'Donnell",
          "Sainz de Baranda",
          "Conde de Casal",
          "Pacífico",
          "Méndez Álvaro",
          "Arganzuela-Planetario",
          "Legazpi",
          "Usera",
          "Plaza Elíptica",
          "Opañel",
          "Oporto",
          "Carpetana",
          "Pitis",
          "Arroyofresno",
          "Lacoma",
          "Avenida de la Ilustración",
          "Peñagrande",
          "Antonio Machado",
          "Valdezarza",
          "Francos Rodríguez",
          "Guzmán el Bueno",
          "Islas Filipinas",
          "Canal",
          "Alonso Cano",
          "Gregorio Marañón",
          "Avenida de América",
          "Cartagena",
          "Parque de las Avenidas",
          "Barrio de la Concepción",
          "Pueblo Nuevo",
          "Ascao",
          "García Noblejas",
          "Simancas",
          "San Blas",
          "Las Musas",
          "Estadio Metropolitano",
          "Barrio del Puerto",
          "Coslada Central",
          "La Rambla",
          "San Fernando",
          "Jarama",
          "Henares",
          "Aeropuerto T4",
          "Barajas",
          "Aeropuerto T1-T2-T3",
          "Feria de Madrid",
          "Mar de Cristal",
          "Pinar del Rey",
          "Colombia",
          "Paco de Lucía",
          "Mirasierra",
          "Herrera Oria",
          "Barrio del Pilar",
          "Ventilla",
          "Plaza de Castilla",
          "Duque de Pastrana",
          "Pío XII",
          "Colombia",
          "Concha Espina",
          "Cruz del Rayo",
          "Avenida de América",
          "Núñez de Balboa",
          "Príncipe de Vergara",
          "Ibiza",
          "Sainz de Baranda",
          "Estrella",
          "Vinateros",
          "Artilleros",
          "Pavones",
          "Valdebernardo",
          "Vicálvaro",
          "San Cipriano",
          "Hospital Infanta Sofía",
          "Reyes Católicos",
          "Baunatal",
          "Manuel de Falla",
          "Marqués de la Valdavia",
          "La Moraleja",
          "La Granja",
          "Ronda de la Comunicación",
          "Las Tablas",
          "Montecarmelo",
          "Tres Olivos",
          "Fuencarral",
          "Begoña",
          "Chamartín",
          "Plaza de Castilla",
          "Cuzco",
          "Santiago Bernabéu",
          "Nuevos Ministerios",
          "Gregorio Marañón",
          "Alonso Martínez",
          "Tribunal",
          "Plaza de España",
          "Principe Pío",
          "Lago",
          "Batán",
          "Casa de Campo",
          "Colonia Jardín",
          "Aviación Española",
          "Cuatro Vientos",
          "Joaquín Vilumbrales",
          "Plaza Elíptica",
          "Abrantes",
          "Pan Bendito",
          "San Francisco",
          "Carabanchel Alto",
          "La Peseta",
          "Puerta del Sur",
          "Parque Lisboa",
          "Alcorcón Central",
          "Parque Oeste",
          "Universidad Rey Juan Carlos",
          "Móstoles Central",
          "Pradillo",
          "Hospital de Móstoles",
          "Manuela Malasaña",
          "Loranca",
          "Hospital de Fuenlabrada",
          "Parque Europa",
          "Fuenlabrada Central",
          "Parque de los Estados",
          "Arroyo Culebro",
          "Conservatorio",
          "Alonso de Mendoza",
          "Getafe Central",
          "Juan de la Cierva",
          "El Casar",
          "Los Espartales",
          "El Bercial",
          "El Carrascal",
          "Julián Besteiro",
          "Casa del Reloj",
          "Hospital Severo Ochoa",
          "Leganés Central",
          "San Nicasio"
         ],
         "lat": [
          40.48013631,
          40.47687195,
          40.47213836,
          40.4668494,
          40.46440066,
          40.46120085,
          40.45457217,
          40.45020706,
          40.44700657,
          40.44135635,
          40.43489816,
          40.42903458,
          40.42613342,
          40.41987424,
          40.41686834,
          40.41237559,
          40.41248995,
          40.40900991,
          40.40657541,
          40.40453297,
          40.40175113,
          40.39853123,
          40.39581853,
          40.39288919,
          40.39154908,
          40.38989209,
          40.38737518,
          40.38255355,
          40.37966041,
          40.37217363,
          40.369231,
          40.36321456,
          40.42375139,
          40.42233839,
          40.41859049,
          40.42362092,
          40.42649584,
          40.43110198,
          40.42790792,
          40.42457569,
          40.4230892,
          40.42073689,
          40.41910329,
          40.4178944,
          40.41686834,
          40.41823746,
          40.42144524,
          40.42486766,
          40.42986592,
          40.43314889,
          40.43821445,
          40.44700657,
          40.43454151,
          40.43059028,
          40.42701317,
          40.42369283,
          40.42026238,
          40.41686834,
          40.40848315,
          40.40464342,
          40.40291139,
          40.39975767,
          40.39114152,
          40.38395022,
          40.37540139,
          40.3697615,
          40.35972844,
          40.35094759,
          40.34142482,
          40.43059028,
          40.42986592,
          40.42903458,
          40.427781,
          40.42542884,
          40.42541243,
          40.42515107,
          40.42457569,
          40.42916929,
          40.4346047,
          40.43809255,
          40.44420516,
          40.44823416,
          40.45339396,
          40.4558431,
          40.45959827,
          40.46433275,
          40.4693649,
          40.47444909,
          40.47719126,
          40.475102,
          40.47667604,
          40.40322022,
          40.39465453,
          40.39089574,
          40.38580469,
          40.38472658,
          40.38783197,
          40.38869168,
          40.3883975,
          40.39301052,
          40.39749269,
          40.40251939,
          40.40374489,
          40.40676771,
          40.41134253,
          40.41823746,
          40.42026238,
          40.41987424,
          40.4225677,
          40.427781,
          40.43315269,
          40.43284731,
          40.4346047,
          40.43110198,
          40.43183532,
          40.43358855,
          40.4356791,
          40.43787847,
          40.44090339,
          40.44361427,
          40.44936151,
          40.45329665,
          40.39908529,
          40.4047554,
          40.40977149,
          40.41408471,
          40.4215879,
          40.43059028,
          40.43454151,
          40.44353936,
          40.44684253,
          40.44653227,
          40.44700657,
          40.44664658,
          40.4437072,
          40.43809255,
          40.4346047,
          40.42790792,
          40.42241912,
          40.4147404,
          40.40709413,
          40.40175113,
          40.39563943,
          40.39321525,
          40.39114152,
          40.38707515,
          40.38449275,
          40.38622525,
          40.3883975,
          40.3927153,
          40.495374,
          40.49083754,
          40.48483196,
          40.48004996,
          40.47592052,
          40.46997891,
          40.46460815,
          40.45652689,
          40.44653227,
          40.43902195,
          40.43821445,
          40.43843401,
          40.43807472,
          40.43809255,
          40.43930812,
          40.43947143,
          40.43885084,
          40.4356791,
          40.43012943,
          40.42908408,
          40.42790804,
          40.42792782,
          40.43262315,
          40.43335813,
          40.42249924,
          40.4235937,
          40.42509651,
          40.42441045,
          40.42287495,
          40.41769906,
          40.49139493,
          40.47582515,
          40.46828401,
          40.46398373,
          40.4693649,
          40.46810839,
          40.45730084,
          40.4996054,
          40.49094886,
          40.48458425,
          40.4762505,
          40.46955802,
          40.4668494,
          40.46753382,
          40.46251995,
          40.45730084,
          40.45037256,
          40.44423272,
          40.43809255,
          40.43284731,
          40.4230892,
          40.4183282,
          40.4147404,
          40.41143389,
          40.41032289,
          40.40509442,
          40.40061722,
          40.40002717,
          40.40421029,
          40.40388349,
          40.55983791,
          40.55034268,
          40.55436197,
          40.55048167,
          40.54108976,
          40.53192485,
          40.52765182,
          40.51567934,
          40.5082077,
          40.50528733,
          40.50089838,
          40.49503942,
          40.48046924,
          40.47213836,
          40.4668494,
          40.45826738,
          40.45216092,
          40.44664658,
          40.43807472,
          40.427781,
          40.42613342,
          40.42369283,
          40.4215879,
          40.41649073,
          40.40766826,
          40.40322022,
          40.3972105,
          40.38375966,
          40.37771182,
          40.34969638,
          40.38449275,
          40.38058188,
          40.3758742,
          40.37374797,
          40.37208053,
          40.36325224,
          40.34518279,
          40.34970814,
          40.35023144,
          40.34601225,
          40.33475981,
          40.32860942,
          40.32150961,
          40.31637241,
          40.30897678,
          40.29642607,
          40.28571471,
          40.2850927,
          40.28263735,
          40.28659861,
          40.28898427,
          40.29346889,
          40.30080076,
          40.30989903,
          40.31176435,
          40.3185707,
          40.32427584,
          40.32928157,
          40.33673743,
          40.33453117,
          40.32654275,
          40.32178703,
          40.32852952,
          40.336152
         ],
         "legendgroup": "",
         "lon": [
          -3.66706111,
          -3.676373739,
          -3.682768126,
          -3.689162512,
          -3.695127745,
          -3.697831412,
          -3.702766676,
          -3.703505801,
          -3.703977869,
          -3.701531695,
          -3.698774046,
          -3.702228731,
          -3.70116243,
          -3.701613041,
          -3.702793213,
          -3.704359623,
          -3.699402901,
          -3.692514988,
          -3.689417845,
          -3.680742777,
          -3.674777864,
          -3.668939103,
          -3.664390076,
          -3.658907634,
          -3.653950912,
          -3.64546746,
          -3.639738261,
          -3.625030273,
          -3.621232265,
          -3.618721717,
          -3.612606281,
          -3.599602932,
          -3.603045624,
          -3.611886184,
          -3.623206618,
          -3.639192584,
          -3.650618775,
          -3.663536293,
          -3.669204739,
          -3.675856618,
          -3.679847745,
          -3.685877351,
          -3.69510415,
          -3.699403086,
          -3.702793213,
          -3.709330457,
          -3.707899257,
          -3.707427188,
          -3.706032439,
          -3.70427291,
          -3.704337283,
          -3.703977869,
          -3.719117747,
          -3.716055779,
          -3.713588147,
          -3.710927396,
          -3.705670266,
          -3.702793213,
          -3.700756459,
          -3.702194123,
          -3.693954377,
          -3.694104581,
          -3.695134549,
          -3.698095708,
          -3.695821195,
          -3.694383531,
          -3.693661806,
          -3.692524549,
          -3.692796277,
          -3.716055779,
          -3.706032439,
          -3.702228731,
          -3.695911679,
          -3.690976414,
          -3.686606943,
          -3.682916224,
          -3.675856618,
          -3.675363123,
          -3.675073148,
          -3.676670475,
          -3.67494475,
          -3.66779438,
          -3.662086639,
          -3.656293067,
          -3.64587343,
          -3.635445002,
          -3.638170848,
          -3.639426829,
          -3.645263316,
          -3.652516009,
          -3.662953756,
          -3.76100355,
          -3.768217204,
          -3.765832629,
          -3.761026111,
          -3.750646908,
          -3.744896251,
          -3.739959292,
          -3.731230185,
          -3.724476647,
          -3.716255149,
          -3.710925594,
          -3.706548229,
          -3.710904136,
          -3.708350673,
          -3.709330457,
          -3.705670266,
          -3.701613041,
          -3.69764598,
          -3.695911679,
          -3.689119115,
          -3.683196798,
          -3.675073148,
          -3.663536293,
          -3.65748632,
          -3.647229222,
          -3.642845864,
          -3.638039345,
          -3.627124503,
          -3.617039397,
          -3.608127488,
          -3.594265832,
          -3.743863647,
          -3.745580261,
          -3.738821094,
          -3.727219913,
          -3.71940932,
          -3.716055779,
          -3.719117747,
          -3.726893882,
          -3.718782881,
          -3.711809138,
          -3.703977869,
          -3.691982249,
          -3.683914164,
          -3.676670475,
          -3.675073148,
          -3.669204739,
          -3.668976287,
          -3.669791679,
          -3.669984798,
          -3.674777864,
          -3.678027259,
          -3.688634252,
          -3.695134549,
          -3.706622287,
          -3.718381091,
          -3.723445102,
          -3.731230185,
          -3.740982794,
          -3.725570035,
          -3.726020646,
          -3.723059488,
          -3.718274427,
          -3.71593554,
          -3.718143025,
          -3.7159758,
          -3.712156561,
          -3.711809138,
          -3.713787344,
          -3.704337283,
          -3.699303415,
          -3.691192415,
          -3.676670475,
          -3.672157484,
          -3.6629736,
          -3.651601034,
          -3.642845864,
          -3.641083238,
          -3.631834981,
          -3.625826833,
          -3.61569126,
          -3.607704,
          -3.600086527,
          -3.56906157,
          -3.560886197,
          -3.547882847,
          -3.535373024,
          -3.525352291,
          -3.527147934,
          -3.593199646,
          -3.582599556,
          -3.571117753,
          -3.616340986,
          -3.638170848,
          -3.648056929,
          -3.676944063,
          -3.709227739,
          -3.716298041,
          -3.707629142,
          -3.703108241,
          -3.695898463,
          -3.689162512,
          -3.679376056,
          -3.676087989,
          -3.676944063,
          -3.678319587,
          -3.678233756,
          -3.676670475,
          -3.683196798,
          -3.679847745,
          -3.67810501,
          -3.669791679,
          -3.661840095,
          -3.652784957,
          -3.641798629,
          -3.635146751,
          -3.621553966,
          -3.608936855,
          -3.603701183,
          -3.611303047,
          -3.623442589,
          -3.635287224,
          -3.646960198,
          -3.637390076,
          -3.635501801,
          -3.658631887,
          -3.66284914,
          -3.669415187,
          -3.695902925,
          -3.694357972,
          -3.693221157,
          -3.685761032,
          -3.682768126,
          -3.689162512,
          -3.689887193,
          -3.690702584,
          -3.691982249,
          -3.691192415,
          -3.695911679,
          -3.70116243,
          -3.710927396,
          -3.71940932,
          -3.734850338,
          -3.753003529,
          -3.76100355,
          -3.774847439,
          -3.78387852,
          -3.790830806,
          -3.807594439,
          -3.718381091,
          -3.728294283,
          -3.734388262,
          -3.739701628,
          -3.751846671,
          -3.757339835,
          -3.812272211,
          -3.821173702,
          -3.832117115,
          -3.849326168,
          -3.872114216,
          -3.864131962,
          -3.864646946,
          -3.874646221,
          -3.864003216,
          -3.837545586,
          -3.816651978,
          -3.806051888,
          -3.798799195,
          -3.787373234,
          -3.756823261,
          -3.74613734,
          -3.736383132,
          -3.733293227,
          -3.722435645,
          -3.709689788,
          -3.718084615,
          -3.729757589,
          -3.740162613,
          -3.752479316,
          -3.759498447,
          -3.768687361,
          -3.771458787,
          -3.775814695
         ],
         "marker": {
          "color": "#636efa"
         },
         "mode": "markers",
         "name": "",
         "showlegend": false,
         "subplot": "mapbox",
         "type": "scattermapbox"
        }
       ],
       "layout": {
        "height": 1000,
        "legend": {
         "tracegroupgap": 0
        },
        "mapbox": {
         "center": {
          "lat": 40.419461336934305,
          "lon": -3.6930063732664236
         },
         "domain": {
          "x": [
           0,
           1
          ],
          "y": [
           0,
           1
          ]
         },
         "style": "carto-positron",
         "zoom": 10.5
        },
        "margin": {
         "t": 60
        },
        "template": {
         "data": {
          "bar": [
           {
            "error_x": {
             "color": "#2a3f5f"
            },
            "error_y": {
             "color": "#2a3f5f"
            },
            "marker": {
             "line": {
              "color": "#E5ECF6",
              "width": 0.5
             },
             "pattern": {
              "fillmode": "overlay",
              "size": 10,
              "solidity": 0.2
             }
            },
            "type": "bar"
           }
          ],
          "barpolar": [
           {
            "marker": {
             "line": {
              "color": "#E5ECF6",
              "width": 0.5
             },
             "pattern": {
              "fillmode": "overlay",
              "size": 10,
              "solidity": 0.2
             }
            },
            "type": "barpolar"
           }
          ],
          "carpet": [
           {
            "aaxis": {
             "endlinecolor": "#2a3f5f",
             "gridcolor": "white",
             "linecolor": "white",
             "minorgridcolor": "white",
             "startlinecolor": "#2a3f5f"
            },
            "baxis": {
             "endlinecolor": "#2a3f5f",
             "gridcolor": "white",
             "linecolor": "white",
             "minorgridcolor": "white",
             "startlinecolor": "#2a3f5f"
            },
            "type": "carpet"
           }
          ],
          "choropleth": [
           {
            "colorbar": {
             "outlinewidth": 0,
             "ticks": ""
            },
            "type": "choropleth"
           }
          ],
          "contour": [
           {
            "colorbar": {
             "outlinewidth": 0,
             "ticks": ""
            },
            "colorscale": [
             [
              0,
              "#0d0887"
             ],
             [
              0.1111111111111111,
              "#46039f"
             ],
             [
              0.2222222222222222,
              "#7201a8"
             ],
             [
              0.3333333333333333,
              "#9c179e"
             ],
             [
              0.4444444444444444,
              "#bd3786"
             ],
             [
              0.5555555555555556,
              "#d8576b"
             ],
             [
              0.6666666666666666,
              "#ed7953"
             ],
             [
              0.7777777777777778,
              "#fb9f3a"
             ],
             [
              0.8888888888888888,
              "#fdca26"
             ],
             [
              1,
              "#f0f921"
             ]
            ],
            "type": "contour"
           }
          ],
          "contourcarpet": [
           {
            "colorbar": {
             "outlinewidth": 0,
             "ticks": ""
            },
            "type": "contourcarpet"
           }
          ],
          "heatmap": [
           {
            "colorbar": {
             "outlinewidth": 0,
             "ticks": ""
            },
            "colorscale": [
             [
              0,
              "#0d0887"
             ],
             [
              0.1111111111111111,
              "#46039f"
             ],
             [
              0.2222222222222222,
              "#7201a8"
             ],
             [
              0.3333333333333333,
              "#9c179e"
             ],
             [
              0.4444444444444444,
              "#bd3786"
             ],
             [
              0.5555555555555556,
              "#d8576b"
             ],
             [
              0.6666666666666666,
              "#ed7953"
             ],
             [
              0.7777777777777778,
              "#fb9f3a"
             ],
             [
              0.8888888888888888,
              "#fdca26"
             ],
             [
              1,
              "#f0f921"
             ]
            ],
            "type": "heatmap"
           }
          ],
          "heatmapgl": [
           {
            "colorbar": {
             "outlinewidth": 0,
             "ticks": ""
            },
            "colorscale": [
             [
              0,
              "#0d0887"
             ],
             [
              0.1111111111111111,
              "#46039f"
             ],
             [
              0.2222222222222222,
              "#7201a8"
             ],
             [
              0.3333333333333333,
              "#9c179e"
             ],
             [
              0.4444444444444444,
              "#bd3786"
             ],
             [
              0.5555555555555556,
              "#d8576b"
             ],
             [
              0.6666666666666666,
              "#ed7953"
             ],
             [
              0.7777777777777778,
              "#fb9f3a"
             ],
             [
              0.8888888888888888,
              "#fdca26"
             ],
             [
              1,
              "#f0f921"
             ]
            ],
            "type": "heatmapgl"
           }
          ],
          "histogram": [
           {
            "marker": {
             "pattern": {
              "fillmode": "overlay",
              "size": 10,
              "solidity": 0.2
             }
            },
            "type": "histogram"
           }
          ],
          "histogram2d": [
           {
            "colorbar": {
             "outlinewidth": 0,
             "ticks": ""
            },
            "colorscale": [
             [
              0,
              "#0d0887"
             ],
             [
              0.1111111111111111,
              "#46039f"
             ],
             [
              0.2222222222222222,
              "#7201a8"
             ],
             [
              0.3333333333333333,
              "#9c179e"
             ],
             [
              0.4444444444444444,
              "#bd3786"
             ],
             [
              0.5555555555555556,
              "#d8576b"
             ],
             [
              0.6666666666666666,
              "#ed7953"
             ],
             [
              0.7777777777777778,
              "#fb9f3a"
             ],
             [
              0.8888888888888888,
              "#fdca26"
             ],
             [
              1,
              "#f0f921"
             ]
            ],
            "type": "histogram2d"
           }
          ],
          "histogram2dcontour": [
           {
            "colorbar": {
             "outlinewidth": 0,
             "ticks": ""
            },
            "colorscale": [
             [
              0,
              "#0d0887"
             ],
             [
              0.1111111111111111,
              "#46039f"
             ],
             [
              0.2222222222222222,
              "#7201a8"
             ],
             [
              0.3333333333333333,
              "#9c179e"
             ],
             [
              0.4444444444444444,
              "#bd3786"
             ],
             [
              0.5555555555555556,
              "#d8576b"
             ],
             [
              0.6666666666666666,
              "#ed7953"
             ],
             [
              0.7777777777777778,
              "#fb9f3a"
             ],
             [
              0.8888888888888888,
              "#fdca26"
             ],
             [
              1,
              "#f0f921"
             ]
            ],
            "type": "histogram2dcontour"
           }
          ],
          "mesh3d": [
           {
            "colorbar": {
             "outlinewidth": 0,
             "ticks": ""
            },
            "type": "mesh3d"
           }
          ],
          "parcoords": [
           {
            "line": {
             "colorbar": {
              "outlinewidth": 0,
              "ticks": ""
             }
            },
            "type": "parcoords"
           }
          ],
          "pie": [
           {
            "automargin": true,
            "type": "pie"
           }
          ],
          "scatter": [
           {
            "fillpattern": {
             "fillmode": "overlay",
             "size": 10,
             "solidity": 0.2
            },
            "type": "scatter"
           }
          ],
          "scatter3d": [
           {
            "line": {
             "colorbar": {
              "outlinewidth": 0,
              "ticks": ""
             }
            },
            "marker": {
             "colorbar": {
              "outlinewidth": 0,
              "ticks": ""
             }
            },
            "type": "scatter3d"
           }
          ],
          "scattercarpet": [
           {
            "marker": {
             "colorbar": {
              "outlinewidth": 0,
              "ticks": ""
             }
            },
            "type": "scattercarpet"
           }
          ],
          "scattergeo": [
           {
            "marker": {
             "colorbar": {
              "outlinewidth": 0,
              "ticks": ""
             }
            },
            "type": "scattergeo"
           }
          ],
          "scattergl": [
           {
            "marker": {
             "colorbar": {
              "outlinewidth": 0,
              "ticks": ""
             }
            },
            "type": "scattergl"
           }
          ],
          "scattermapbox": [
           {
            "marker": {
             "colorbar": {
              "outlinewidth": 0,
              "ticks": ""
             }
            },
            "type": "scattermapbox"
           }
          ],
          "scatterpolar": [
           {
            "marker": {
             "colorbar": {
              "outlinewidth": 0,
              "ticks": ""
             }
            },
            "type": "scatterpolar"
           }
          ],
          "scatterpolargl": [
           {
            "marker": {
             "colorbar": {
              "outlinewidth": 0,
              "ticks": ""
             }
            },
            "type": "scatterpolargl"
           }
          ],
          "scatterternary": [
           {
            "marker": {
             "colorbar": {
              "outlinewidth": 0,
              "ticks": ""
             }
            },
            "type": "scatterternary"
           }
          ],
          "surface": [
           {
            "colorbar": {
             "outlinewidth": 0,
             "ticks": ""
            },
            "colorscale": [
             [
              0,
              "#0d0887"
             ],
             [
              0.1111111111111111,
              "#46039f"
             ],
             [
              0.2222222222222222,
              "#7201a8"
             ],
             [
              0.3333333333333333,
              "#9c179e"
             ],
             [
              0.4444444444444444,
              "#bd3786"
             ],
             [
              0.5555555555555556,
              "#d8576b"
             ],
             [
              0.6666666666666666,
              "#ed7953"
             ],
             [
              0.7777777777777778,
              "#fb9f3a"
             ],
             [
              0.8888888888888888,
              "#fdca26"
             ],
             [
              1,
              "#f0f921"
             ]
            ],
            "type": "surface"
           }
          ],
          "table": [
           {
            "cells": {
             "fill": {
              "color": "#EBF0F8"
             },
             "line": {
              "color": "white"
             }
            },
            "header": {
             "fill": {
              "color": "#C8D4E3"
             },
             "line": {
              "color": "white"
             }
            },
            "type": "table"
           }
          ]
         },
         "layout": {
          "annotationdefaults": {
           "arrowcolor": "#2a3f5f",
           "arrowhead": 0,
           "arrowwidth": 1
          },
          "autotypenumbers": "strict",
          "coloraxis": {
           "colorbar": {
            "outlinewidth": 0,
            "ticks": ""
           }
          },
          "colorscale": {
           "diverging": [
            [
             0,
             "#8e0152"
            ],
            [
             0.1,
             "#c51b7d"
            ],
            [
             0.2,
             "#de77ae"
            ],
            [
             0.3,
             "#f1b6da"
            ],
            [
             0.4,
             "#fde0ef"
            ],
            [
             0.5,
             "#f7f7f7"
            ],
            [
             0.6,
             "#e6f5d0"
            ],
            [
             0.7,
             "#b8e186"
            ],
            [
             0.8,
             "#7fbc41"
            ],
            [
             0.9,
             "#4d9221"
            ],
            [
             1,
             "#276419"
            ]
           ],
           "sequential": [
            [
             0,
             "#0d0887"
            ],
            [
             0.1111111111111111,
             "#46039f"
            ],
            [
             0.2222222222222222,
             "#7201a8"
            ],
            [
             0.3333333333333333,
             "#9c179e"
            ],
            [
             0.4444444444444444,
             "#bd3786"
            ],
            [
             0.5555555555555556,
             "#d8576b"
            ],
            [
             0.6666666666666666,
             "#ed7953"
            ],
            [
             0.7777777777777778,
             "#fb9f3a"
            ],
            [
             0.8888888888888888,
             "#fdca26"
            ],
            [
             1,
             "#f0f921"
            ]
           ],
           "sequentialminus": [
            [
             0,
             "#0d0887"
            ],
            [
             0.1111111111111111,
             "#46039f"
            ],
            [
             0.2222222222222222,
             "#7201a8"
            ],
            [
             0.3333333333333333,
             "#9c179e"
            ],
            [
             0.4444444444444444,
             "#bd3786"
            ],
            [
             0.5555555555555556,
             "#d8576b"
            ],
            [
             0.6666666666666666,
             "#ed7953"
            ],
            [
             0.7777777777777778,
             "#fb9f3a"
            ],
            [
             0.8888888888888888,
             "#fdca26"
            ],
            [
             1,
             "#f0f921"
            ]
           ]
          },
          "colorway": [
           "#636efa",
           "#EF553B",
           "#00cc96",
           "#ab63fa",
           "#FFA15A",
           "#19d3f3",
           "#FF6692",
           "#B6E880",
           "#FF97FF",
           "#FECB52"
          ],
          "font": {
           "color": "#2a3f5f"
          },
          "geo": {
           "bgcolor": "white",
           "lakecolor": "white",
           "landcolor": "#E5ECF6",
           "showlakes": true,
           "showland": true,
           "subunitcolor": "white"
          },
          "hoverlabel": {
           "align": "left"
          },
          "hovermode": "closest",
          "mapbox": {
           "style": "light"
          },
          "paper_bgcolor": "white",
          "plot_bgcolor": "#E5ECF6",
          "polar": {
           "angularaxis": {
            "gridcolor": "white",
            "linecolor": "white",
            "ticks": ""
           },
           "bgcolor": "#E5ECF6",
           "radialaxis": {
            "gridcolor": "white",
            "linecolor": "white",
            "ticks": ""
           }
          },
          "scene": {
           "xaxis": {
            "backgroundcolor": "#E5ECF6",
            "gridcolor": "white",
            "gridwidth": 2,
            "linecolor": "white",
            "showbackground": true,
            "ticks": "",
            "zerolinecolor": "white"
           },
           "yaxis": {
            "backgroundcolor": "#E5ECF6",
            "gridcolor": "white",
            "gridwidth": 2,
            "linecolor": "white",
            "showbackground": true,
            "ticks": "",
            "zerolinecolor": "white"
           },
           "zaxis": {
            "backgroundcolor": "#E5ECF6",
            "gridcolor": "white",
            "gridwidth": 2,
            "linecolor": "white",
            "showbackground": true,
            "ticks": "",
            "zerolinecolor": "white"
           }
          },
          "shapedefaults": {
           "line": {
            "color": "#2a3f5f"
           }
          },
          "ternary": {
           "aaxis": {
            "gridcolor": "white",
            "linecolor": "white",
            "ticks": ""
           },
           "baxis": {
            "gridcolor": "white",
            "linecolor": "white",
            "ticks": ""
           },
           "bgcolor": "#E5ECF6",
           "caxis": {
            "gridcolor": "white",
            "linecolor": "white",
            "ticks": ""
           }
          },
          "title": {
           "x": 0.05
          },
          "xaxis": {
           "automargin": true,
           "gridcolor": "white",
           "linecolor": "white",
           "ticks": "",
           "title": {
            "standoff": 15
           },
           "zerolinecolor": "white",
           "zerolinewidth": 2
          },
          "yaxis": {
           "automargin": true,
           "gridcolor": "white",
           "linecolor": "white",
           "ticks": "",
           "title": {
            "standoff": 15
           },
           "zerolinecolor": "white",
           "zerolinewidth": 2
          }
         }
        },
        "width": 1400
       }
      }
     },
     "metadata": {},
     "output_type": "display_data"
    }
   ],
   "source": [
    "fig = px.scatter_mapbox(\n",
    "    df, lat=\"Latitude\", lon=\"Longitude\", hover_name=\"Station\", zoom=10\n",
    ")\n",
    "fig.update_layout(mapbox_style=\"carto-positron\", mapbox_zoom=10.5, width=1400, height=1000)\n",
    "fig.show()"
   ]
  },
  {
   "cell_type": "code",
   "execution_count": null,
   "metadata": {},
   "outputs": [],
   "source": []
  }
 ],
 "metadata": {
  "language_info": {
   "name": "python"
  }
 },
 "nbformat": 4,
 "nbformat_minor": 2
}
